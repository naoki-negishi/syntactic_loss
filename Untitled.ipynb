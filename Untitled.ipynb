{
 "cells": [
  {
   "cell_type": "code",
   "execution_count": 13,
   "id": "4476147d-8426-4726-ae18-a26c5bbda7c2",
   "metadata": {},
   "outputs": [
    {
     "name": "stdout",
     "output_type": "stream",
     "text": [
      "[y = 0, x = 7]\n",
      "num args:  2\n",
      "children:  [x + y, 3]\n",
      "1st child: x + y\n",
      "2nd child: 3\n",
      "operator:  >=\n",
      "op name:   >=\n"
     ]
    }
   ],
   "source": [
    "import z3\n",
    "from z3 import Int\n",
    "\n",
    "# x = z3.z3.ArithRef.Int('x')\n",
    "\n",
    "x = Int('x')  # z3.z3.ArithRef\n",
    "y = Int('y')\n",
    "solve(x > 2, y < 10, x + 2*y == 7)\n",
    "\n",
    "# print(simplify(x + y + 2*x + 3))\n",
    "# print(simplify(x < y + x + 2))\n",
    "# print(simplify(And(x + 1 >= 3, x**2 + x**2 + y**2 + 2 >= 5)))\n",
    "\n",
    "# set_option(html_mode=False)\n",
    "\n",
    "n = x + y >= 3\n",
    "print (\"num args: \", n.num_args())\n",
    "print (\"children: \", n.children())\n",
    "print (\"1st child:\", n.arg(0))\n",
    "print (\"2nd child:\", n.arg(1))\n",
    "print (\"operator: \", n.decl())\n",
    "print (\"op name:  \", n.decl().name())\n"
   ]
  },
  {
   "cell_type": "code",
   "execution_count": 18,
   "id": "dc23b606-1cad-4f2e-a00a-eb9d8aaf3685",
   "metadata": {},
   "outputs": [
    {
     "name": "stdout",
     "output_type": "stream",
     "text": [
      "[y = 2, x = 1/8]\n",
      "Solving, and displaying result with 30 decimal places\n",
      "[y = -1.188528059421316533710369365015?,\n",
      " x = 1.259921049894873164767210607278?]\n",
      "0.3333333333333333\n",
      "1/3\n",
      "1/3\n",
      "x + 3333333333333333/10000000000000000\n",
      "x + 1/3\n",
      "x + 1/3\n",
      "x + 1/4\n",
      "[x = 1/3]\n",
      "[x = 0.333333333333333333333333333333?]\n",
      "[x = 0.333333333333333333333333333333?]\n"
     ]
    }
   ],
   "source": [
    "x = Real('x')\n",
    "y = Real('y')\n",
    "solve(x**2 + y**2 > 3, x**3 + y < 5)\n",
    "\n",
    "set_option(precision=30)\n",
    "print (\"Solving, and displaying result with 30 decimal places\")\n",
    "solve(x**2 + y**2 == 3, x**3 == 2)\n",
    "\n",
    "print (1/3)\n",
    "print (RealVal(1)/3)\n",
    "print (Q(1,3))\n",
    "\n",
    "x = Real('x')\n",
    "print (x + 1/3)\n",
    "print (x + Q(1,3))\n",
    "print (x + \"1/3\")\n",
    "print (x + 0.25)\n",
    "\n",
    "x = Real('x')\n",
    "solve(3*x == 1)\n",
    "\n",
    "set_option(rational_to_decimal=True)\n",
    "solve(3*x == 1)\n",
    "\n",
    "set_option(precision=30)\n",
    "solve(3*x == 1)\n",
    "\n",
    "x = Real('x')\n",
    "solve(x > 4, x < 0)"
   ]
  },
  {
   "cell_type": "code",
   "execution_count": 56,
   "id": "661e0eb8-eb56-4e46-868c-55cba3e13b9a",
   "metadata": {},
   "outputs": [
    {
     "name": "stdout",
     "output_type": "stream",
     "text": [
      "[q = True, p = False, r = False]\n",
      "[q = True, p = True]\n"
     ]
    }
   ],
   "source": [
    "p = Bool('p')\n",
    "q = Bool('q')\n",
    "r = Bool('r')\n",
    "solve(Implies(p, q), r == Not(q), Or(Not(p), r))\n",
    "solve(Implies(p, q), And(p))"
   ]
  },
  {
   "cell_type": "code",
   "execution_count": 25,
   "id": "4afab908-510b-4388-a00d-909d1970759c",
   "metadata": {},
   "outputs": [
    {
     "name": "stdout",
     "output_type": "stream",
     "text": [
      "And(p, q, True)\n",
      "And(p, q)\n",
      "False\n"
     ]
    }
   ],
   "source": [
    "p = Bool('p')\n",
    "q = Bool('q')\n",
    "print (And(p, q, True))\n",
    "print (simplify(And(p, q, True)))\n",
    "print (simplify(And(p, False)))"
   ]
  },
  {
   "cell_type": "code",
   "execution_count": 27,
   "id": "25f6be4b-95b7-42fc-9072-8ecadfb577fd",
   "metadata": {},
   "outputs": [
    {
     "name": "stdout",
     "output_type": "stream",
     "text": [
      "[x = -1.414213562373095048801688724209?, p = False]\n"
     ]
    }
   ],
   "source": [
    "p = Bool('p')\n",
    "x = Real('x')\n",
    "solve(Or(x < 5, x > 10), Or(p, x**2 == 2), Not(p))"
   ]
  },
  {
   "cell_type": "code",
   "execution_count": 23,
   "id": "b58d5bb4-db6b-4666-888c-30a373db75ad",
   "metadata": {
    "scrolled": true
   },
   "outputs": [
    {
     "name": "stdout",
     "output_type": "stream",
     "text": [
      "['s', '/', '(', 'np', '\\\\', 's', ')']\n",
      "Tree: (S (A s) / (A ( (S (A np) \\ (A s)) )))\n",
      "length: 3\n",
      "['s', '/', '(', 'np', '\\\\', 's', ')']\n",
      "leaf: (A s)\n",
      "leaf: /\n",
      "leaf: (A ( (S (A np) \\ (A s)) ))\n",
      "['(', 'np', '\\\\', 's', ')']\n"
     ]
    }
   ],
   "source": [
    "import nltk\n",
    "import re\n",
    "\n",
    "CCG_cfg = nltk.CFG.fromstring(R\"\"\"\n",
    "    S -> A '/' A | A '\\' A\n",
    "    A -> 'np' | 's' | '(' S ')'\n",
    "\"\"\")\n",
    "\n",
    "cats = [R\"s/(np\\s)\", R\"np\\s\"]\n",
    "\n",
    "pattern = r\"([/()\\\\])\"\n",
    "sent = re.split(pattern, cats[0])\n",
    "sent = [x for x in sent if x]\n",
    "\n",
    "print(sent)\n",
    "parser = nltk.ChartParser(CCG_cfg)\n",
    "tree = list(parser.parse(sent))[0]\n",
    "print(f\"Tree: {tree}\")\n",
    "print(f\"length: {len(tree)}\")\n",
    "\n",
    "print(tree.leaves())\n",
    "\n",
    "for t in tree:\n",
    "    print(f\"leaf: {t}\")\n",
    "\n",
    "print(tree[2].leaves())"
   ]
  },
  {
   "cell_type": "code",
   "execution_count": null,
   "id": "81f80e13-b8ed-4a36-a2b4-ec6e23af5d10",
   "metadata": {},
   "outputs": [],
   "source": []
  }
 ],
 "metadata": {
  "kernelspec": {
   "display_name": "Python 3 (ipykernel)",
   "language": "python",
   "name": "python3"
  },
  "language_info": {
   "codemirror_mode": {
    "name": "ipython",
    "version": 3
   },
   "file_extension": ".py",
   "mimetype": "text/x-python",
   "name": "python",
   "nbconvert_exporter": "python",
   "pygments_lexer": "ipython3",
   "version": "3.12.4"
  }
 },
 "nbformat": 4,
 "nbformat_minor": 5
}
